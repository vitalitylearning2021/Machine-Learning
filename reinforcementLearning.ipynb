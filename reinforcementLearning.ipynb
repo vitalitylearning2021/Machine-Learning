{
 "cells": [
  {
   "cell_type": "code",
   "execution_count": 1,
   "metadata": {},
   "outputs": [
    {
     "name": "stdout",
     "output_type": "stream",
     "text": [
      "True probabilities: [0.2, 0.5, 0.75]\n",
      "Estimated values after 1000 trials: [0.15217391 0.4516129  0.73997833]\n"
     ]
    }
   ],
   "source": [
    "import numpy as np\n",
    "\n",
    "# Define the reward probabilities for 3 slot machines (bandits)\n",
    "true_probabilities = [0.2, 0.5, 0.75]\n",
    "num_actions = len(true_probabilities)\n",
    "\n",
    "# Number of times each machine (action) was tried\n",
    "action_count = np.zeros(num_actions)\n",
    "# Estimated value of each machine (Q-values)\n",
    "estimated_values = np.zeros(num_actions)\n",
    "\n",
    "# Hyperparameters\n",
    "epsilon = 0.1  # Exploration rate\n",
    "num_trials = 1000  # Number of trials\n",
    "\n",
    "# Function to simulate pulling a lever\n",
    "def pull_lever(action):\n",
    "    return 1 if np.random.random() < true_probabilities[action] else 0\n",
    "\n",
    "# Simulate trials\n",
    "for trial in range(num_trials):\n",
    "    # Explore (random) vs Exploit (best known action)\n",
    "    if np.random.random() < epsilon:\n",
    "        action = np.random.choice(num_actions)  # Explore: choose a random machine\n",
    "    else:\n",
    "        action = np.argmax(estimated_values)  # Exploit: choose the best known machine\n",
    "    \n",
    "    # Pull the lever and get a reward\n",
    "    reward = pull_lever(action)\n",
    "    \n",
    "    # Update counts and Q-values\n",
    "    action_count[action] += 1\n",
    "    estimated_values[action] += (reward - estimated_values[action]) / action_count[action]\n",
    "\n",
    "# Display the results\n",
    "print(f\"True probabilities: {true_probabilities}\")\n",
    "print(f\"Estimated values after {num_trials} trials: {estimated_values}\")\n"
   ]
  }
 ],
 "metadata": {
  "kernelspec": {
   "display_name": "Python 3",
   "language": "python",
   "name": "python3"
  },
  "language_info": {
   "codemirror_mode": {
    "name": "ipython",
    "version": 3
   },
   "file_extension": ".py",
   "mimetype": "text/x-python",
   "name": "python",
   "nbconvert_exporter": "python",
   "pygments_lexer": "ipython3",
   "version": "3.11.9"
  }
 },
 "nbformat": 4,
 "nbformat_minor": 2
}
