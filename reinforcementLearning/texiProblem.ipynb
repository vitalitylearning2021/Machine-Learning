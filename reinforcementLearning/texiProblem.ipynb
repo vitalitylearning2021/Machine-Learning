{
 "cells": [
  {
   "cell_type": "code",
   "execution_count": 1,
   "metadata": {},
   "outputs": [],
   "source": [
    "import gym\n",
    "import numpy as np\n",
    "import random\n",
    "\n",
    "# used to help with visualizing in Colab\n",
    "from IPython.display import display, clear_output\n",
    "from time import sleep"
   ]
  },
  {
   "cell_type": "code",
   "execution_count": 2,
   "metadata": {},
   "outputs": [],
   "source": [
    "class bcolors:\n",
    "    RED= '\\u001b[31m'\n",
    "    GREEN= '\\u001b[32m'\n",
    "    RESET= '\\u001b[0m'"
   ]
  },
  {
   "cell_type": "code",
   "execution_count": 3,
   "metadata": {},
   "outputs": [],
   "source": [
    "# create Taxi environment\n",
    "env = gym.make('Taxi-v3', render_mode='ansi')"
   ]
  },
  {
   "cell_type": "code",
   "execution_count": 4,
   "metadata": {},
   "outputs": [
    {
     "name": "stdout",
     "output_type": "stream",
     "text": [
      "+---------+\n",
      "|\u001b[34;1mR\u001b[0m: | : :G|\n",
      "|\u001b[43m \u001b[0m: | : : |\n",
      "| : : : : |\n",
      "| | : | : |\n",
      "|Y| : |\u001b[35mB\u001b[0m: |\n",
      "+---------+\n",
      "  (North)\n",
      "\n"
     ]
    },
    {
     "ename": "KeyboardInterrupt",
     "evalue": "",
     "output_type": "error",
     "traceback": [
      "\u001b[1;31m---------------------------------------------------------------------------\u001b[0m",
      "\u001b[1;31mKeyboardInterrupt\u001b[0m                         Traceback (most recent call last)",
      "Cell \u001b[1;32mIn[4], line 94\u001b[0m\n\u001b[0;32m     91\u001b[0m                 \u001b[38;5;28;01mbreak\u001b[39;00m\n\u001b[0;32m     93\u001b[0m \u001b[38;5;66;03m# Visualize the trained agent\u001b[39;00m\n\u001b[1;32m---> 94\u001b[0m \u001b[43mvisualize_agent\u001b[49m\u001b[43m(\u001b[49m\u001b[43menv\u001b[49m\u001b[43m,\u001b[49m\u001b[43m \u001b[49m\u001b[43mqtable\u001b[49m\u001b[43m,\u001b[49m\u001b[43m \u001b[49m\u001b[43mepisodes\u001b[49m\u001b[38;5;241;43m=\u001b[39;49m\u001b[38;5;241;43m5\u001b[39;49m\u001b[43m)\u001b[49m\n",
      "Cell \u001b[1;32mIn[4], line 75\u001b[0m, in \u001b[0;36mvisualize_agent\u001b[1;34m(env, qtable, episodes, max_steps)\u001b[0m\n\u001b[0;32m     73\u001b[0m clear_output(wait\u001b[38;5;241m=\u001b[39m\u001b[38;5;28;01mTrue\u001b[39;00m)\n\u001b[0;32m     74\u001b[0m \u001b[38;5;28mprint\u001b[39m(env\u001b[38;5;241m.\u001b[39mrender())\n\u001b[1;32m---> 75\u001b[0m sleep(\u001b[38;5;241m0.5\u001b[39m)  \u001b[38;5;66;03m# Adjust the speed of the animation\u001b[39;00m\n\u001b[0;32m     77\u001b[0m \u001b[38;5;66;03m# Choose action based on Q-table\u001b[39;00m\n\u001b[0;32m     78\u001b[0m action \u001b[38;5;241m=\u001b[39m np\u001b[38;5;241m.\u001b[39margmax(qtable[state, :])\n",
      "\u001b[1;31mKeyboardInterrupt\u001b[0m: "
     ]
    }
   ],
   "source": [
    "\n",
    "\n",
    "# initialize q-table\n",
    "state_size \t\t\t= env.observation_space.n\n",
    "action_size \t\t= env.action_space.n\n",
    "qtable \t\t\t\t= np.zeros((state_size, action_size))\n",
    "\n",
    "# hyperparameters\n",
    "learning_rate \t\t= 0.9\n",
    "discount_rate \t\t= 0.8\n",
    "epsilon \t\t\t= 1.0\n",
    "decay_rate\t\t\t= 0.005\n",
    "\n",
    "# training variables\n",
    "num_episodes \t\t= 2000\n",
    "max_steps \t\t\t= 99 # per episode\n",
    "\n",
    "print(\"AGENT IS TRAINING...\")\n",
    "\n",
    "for episode in range(num_episodes):\n",
    "\n",
    "    # Reset the environment\n",
    "    state \t\t= env.reset()\n",
    "    state \t\t\t= state[0]\n",
    "    step \t\t\t= 0\n",
    "    done \t\t\t= False\n",
    "\n",
    "    for step in range(max_steps):\n",
    "\n",
    "        # Exploration-exploitation tradeoff\n",
    "        if random.uniform(0,1) < epsilon:\n",
    "            # Explore\n",
    "            action = env.action_space.sample()\n",
    "        else:\n",
    "            # Exploit\n",
    "            action = np.argmax(qtable[state,:])\n",
    "\n",
    "        # Take an action and observe the reward\n",
    "        #new_state, reward, done, info = env.step(action)\n",
    "        output \t\t= env.step(action)\n",
    "        new_state \t= output[0]\n",
    "        reward \t\t= output[1]\n",
    "        done \t\t= output[2]\n",
    "        info \t\t= output[3]\n",
    "\n",
    "        # Q-learning algorithm\n",
    "        qtable[state,action] = qtable[state,action] + learning_rate * (reward + discount_rate * np.max(qtable[new_state,:])-qtable[state,action])\n",
    "\n",
    "        # Update to our new state\n",
    "        state \t\t= new_state\n",
    "\n",
    "        # if done, finish episode\n",
    "        if done == True:\n",
    "            break\n",
    "\n",
    "    # Decrease epsilon\n",
    "    epsilon = np.exp(-decay_rate*episode)\n",
    "\n",
    "# Get ready to watch our trained agent\n",
    "clear_output()\n",
    "print(f\"Our Q-table: {qtable}\")\n",
    "print(f\"Training completed over {num_episodes} episodes\")\n",
    "#input(\"Press Enter to see our trained taxi agent\")\n",
    "#sleep(1)\n",
    "#clear_output()\n",
    "\n",
    "def visualize_agent(env, qtable, episodes=5, max_steps=100):\n",
    "    for episode in range(episodes):\n",
    "        state = env.reset()[0]\n",
    "        done = False\n",
    "        print(f\"Episode {episode + 1}\\n\")\n",
    "        sleep(1)\n",
    "\n",
    "        for step in range(max_steps):\n",
    "            clear_output(wait=True)\n",
    "            print(env.render())\n",
    "            sleep(0.5)  # Adjust the speed of the animation\n",
    "\n",
    "            # Choose action based on Q-table\n",
    "            action = np.argmax(qtable[state, :])\n",
    "            output = env.step(action)\n",
    "            new_state \t= output[0]\n",
    "            reward \t\t= output[1]\n",
    "            done \t\t= output[2]\n",
    "            info \t\t= output[3]            \n",
    "            \n",
    "            state = new_state\n",
    "\n",
    "            if done:\n",
    "                print(f\"Episode finished after {step + 1} timesteps\\n\")\n",
    "                sleep(2)\n",
    "                clear_output(wait=True)\n",
    "                break\n",
    "\n",
    "# Visualize the trained agent\n",
    "visualize_agent(env, qtable, episodes=5)"
   ]
  },
  {
   "cell_type": "code",
   "execution_count": 1,
   "metadata": {},
   "outputs": [
    {
     "ename": "NameError",
     "evalue": "name 'env' is not defined",
     "output_type": "error",
     "traceback": [
      "\u001b[1;31m---------------------------------------------------------------------------\u001b[0m",
      "\u001b[1;31mNameError\u001b[0m                                 Traceback (most recent call last)",
      "Cell \u001b[1;32mIn[1], line 25\u001b[0m\n\u001b[0;32m     22\u001b[0m                 \u001b[38;5;28;01mbreak\u001b[39;00m\n\u001b[0;32m     24\u001b[0m \u001b[38;5;66;03m# Visualize the trained agent\u001b[39;00m\n\u001b[1;32m---> 25\u001b[0m visualize_agent(\u001b[43menv\u001b[49m, qtable, episodes\u001b[38;5;241m=\u001b[39m\u001b[38;5;241m5\u001b[39m)\n",
      "\u001b[1;31mNameError\u001b[0m: name 'env' is not defined"
     ]
    }
   ],
   "source": []
  },
  {
   "cell_type": "code",
   "execution_count": 4,
   "metadata": {},
   "outputs": [
    {
     "name": "stdout",
     "output_type": "stream",
     "text": [
      "+---------+\n",
      "|R: | : :G|\n",
      "| : | : : |\n",
      "| : : : : |\n",
      "| | : | : |\n",
      "|Y| : |\u001b[35m\u001b[34;1m\u001b[43mB\u001b[0m\u001b[0m\u001b[0m: |\n",
      "+---------+\n",
      "  (Dropoff)\n",
      "\n"
     ]
    }
   ],
   "source": [
    "print(env.render())"
   ]
  },
  {
   "cell_type": "code",
   "execution_count": 6,
   "metadata": {},
   "outputs": [
    {
     "data": {
      "text/plain": [
       "'+---------+\\n|R: | : :\\x1b[34;1mG\\x1b[0m|\\n| : | : : |\\n|\\x1b[43m \\x1b[0m: : : : |\\n| | : | : |\\n|\\x1b[35mY\\x1b[0m| : |B: |\\n+---------+\\n\\n'"
      ]
     },
     "execution_count": 6,
     "metadata": {},
     "output_type": "execute_result"
    }
   ],
   "source": [
    "env.render()"
   ]
  },
  {
   "cell_type": "code",
   "execution_count": 5,
   "metadata": {},
   "outputs": [
    {
     "ename": "NameError",
     "evalue": "name 'num_steps' is not defined",
     "output_type": "error",
     "traceback": [
      "\u001b[1;31m---------------------------------------------------------------------------\u001b[0m",
      "\u001b[1;31mNameError\u001b[0m                                 Traceback (most recent call last)",
      "Cell \u001b[1;32mIn[5], line 10\u001b[0m\n\u001b[0;32m      7\u001b[0m done \u001b[38;5;241m=\u001b[39m \u001b[38;5;28;01mFalse\u001b[39;00m\n\u001b[0;32m      8\u001b[0m episode_rewards \u001b[38;5;241m=\u001b[39m \u001b[38;5;241m0\u001b[39m\n\u001b[1;32m---> 10\u001b[0m \u001b[38;5;28;01mfor\u001b[39;00m step \u001b[38;5;129;01min\u001b[39;00m \u001b[38;5;28mrange\u001b[39m(\u001b[43mnum_steps\u001b[49m):\n\u001b[0;32m     11\u001b[0m \t\u001b[38;5;66;03m# clear screen\u001b[39;00m\n\u001b[0;32m     12\u001b[0m \tclear_output(wait\u001b[38;5;241m=\u001b[39m\u001b[38;5;28;01mTrue\u001b[39;00m)\n\u001b[0;32m     14\u001b[0m \t\u001b[38;5;28mprint\u001b[39m(\u001b[38;5;124mf\u001b[39m\u001b[38;5;124m\"\u001b[39m\u001b[38;5;124mTRAINED AGENT\u001b[39m\u001b[38;5;124m\"\u001b[39m)\n",
      "\u001b[1;31mNameError\u001b[0m: name 'num_steps' is not defined"
     ]
    }
   ],
   "source": [
    "episodes_to_preview = 3\n",
    "for episode in range(episodes_to_preview):\n",
    "\n",
    "\t# Reset the environment\n",
    "\tstate = env.reset()\n",
    "\tstep = 0\n",
    "\tdone = False\n",
    "\tepisode_rewards = 0\n",
    "\n",
    "\tfor step in range(num_steps):\n",
    "\t\t# clear screen\n",
    "\t\tclear_output(wait=True)\n",
    "\n",
    "\t\tprint(f\"TRAINED AGENT\")\n",
    "\t\tprint(f\"+++++EPISODE {episode+1}+++++\")\n",
    "\t\tprint(f\"Step {step+1}\")\n",
    "\n",
    "\t\t# Exploit\n",
    "\t\taction = np.argmax(qtable[state,:])\n",
    "\n",
    "\t\t# Take an action and observe the reward\n",
    "\t\tnew_state, reward, done, info = env.step(action)\n",
    "\n",
    "\t\t# Accumulate our rewards\n",
    "\t\tepisode_rewards += reward\n",
    "\n",
    "\t\tprint(env.render())\n",
    "\t\tprint(\"\")\n",
    "\t\tif episode_rewards < 0:\n",
    "\t\t\tprint(f\"Score: {bcolors.RED}{episode_rewards}{bcolors.RESET}\")\n",
    "\t\telse:\n",
    "\t\t\tprint(f\"Score: {bcolors.GREEN}{episode_rewards}{bcolors.RESET}\")\n",
    "\t\tsleep(0.5)\n",
    "\n",
    "\t\t# Update to our new state\n",
    "\t\tstate = new_state\n",
    "\n",
    "\t\t# if done, finish episode\n",
    "\t\tif done == True:\n",
    "\t\t\tbreak\n",
    "\n",
    "# Close the Taxi environment\n",
    "env.close()"
   ]
  }
 ],
 "metadata": {
  "kernelspec": {
   "display_name": "Python 3",
   "language": "python",
   "name": "python3"
  },
  "language_info": {
   "codemirror_mode": {
    "name": "ipython",
    "version": 3
   },
   "file_extension": ".py",
   "mimetype": "text/x-python",
   "name": "python",
   "nbconvert_exporter": "python",
   "pygments_lexer": "ipython3",
   "version": "3.11.9"
  }
 },
 "nbformat": 4,
 "nbformat_minor": 2
}
